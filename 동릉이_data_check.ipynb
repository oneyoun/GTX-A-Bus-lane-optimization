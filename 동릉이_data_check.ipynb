{
 "cells": [
  {
   "cell_type": "code",
   "execution_count": 1,
   "metadata": {},
   "outputs": [],
   "source": [
    "import pandas as pd\n",
    "import requests"
   ]
  },
  {
   "cell_type": "markdown",
   "metadata": {},
   "source": [
    "# 1. 동탄역 정차 노선 목록\n",
    "> 교통카드 빅데이터 시스템"
   ]
  },
  {
   "cell_type": "code",
   "execution_count": 11,
   "metadata": {},
   "outputs": [],
   "source": [
    "df_east = pd.read_csv('C:/Users/OneYoung/Documents/GitHub/GTX-A-Bus-lane-optimization/GTX_동탄역_data/교통카드 빅데이터/동탄역(동측)_노선·정류장 지표(정류장별 이용량)_20240617.csv', encoding = 'euc-kr')\n",
    "df_west = pd.read_csv('C:/Users/OneYoung/Documents/GitHub/GTX-A-Bus-lane-optimization/GTX_동탄역_data/교통카드 빅데이터/동탄역(서측)_노선·정류장 지표(정류장별 이용량)_20240617.csv', encoding = 'euc-kr')"
   ]
  },
  {
   "cell_type": "code",
   "execution_count": 18,
   "metadata": {},
   "outputs": [
    {
     "data": {
      "text/html": [
       "<div>\n",
       "<style scoped>\n",
       "    .dataframe tbody tr th:only-of-type {\n",
       "        vertical-align: middle;\n",
       "    }\n",
       "\n",
       "    .dataframe tbody tr th {\n",
       "        vertical-align: top;\n",
       "    }\n",
       "\n",
       "    .dataframe thead th {\n",
       "        text-align: right;\n",
       "    }\n",
       "</style>\n",
       "<table border=\"1\" class=\"dataframe\">\n",
       "  <thead>\n",
       "    <tr style=\"text-align: right;\">\n",
       "      <th></th>\n",
       "      <th>정류장명</th>\n",
       "      <th>정류장번호</th>\n",
       "      <th>노선</th>\n",
       "      <th>기종점</th>\n",
       "      <th>일자</th>\n",
       "      <th>이용자유형</th>\n",
       "      <th>04(승차)</th>\n",
       "      <th>04(하차)</th>\n",
       "      <th>05(승차)</th>\n",
       "      <th>05(하차)</th>\n",
       "      <th>...</th>\n",
       "      <th>23(하차)</th>\n",
       "      <th>00(승차)</th>\n",
       "      <th>00(하차)</th>\n",
       "      <th>01(승차)</th>\n",
       "      <th>01(하차)</th>\n",
       "      <th>02(승차)</th>\n",
       "      <th>02(하차)</th>\n",
       "      <th>03(승차)</th>\n",
       "      <th>03(하차)</th>\n",
       "      <th>Unnamed: 54</th>\n",
       "    </tr>\n",
       "  </thead>\n",
       "  <tbody>\n",
       "    <tr>\n",
       "      <th>0</th>\n",
       "      <td>동탄역(동측)</td>\n",
       "      <td>55399</td>\n",
       "      <td>1000</td>\n",
       "      <td>장외리.오리골 - 장외리.오리골</td>\n",
       "      <td>2024-05</td>\n",
       "      <td>일반인</td>\n",
       "      <td>3</td>\n",
       "      <td>0</td>\n",
       "      <td>7</td>\n",
       "      <td>0</td>\n",
       "      <td>...</td>\n",
       "      <td>7</td>\n",
       "      <td>0</td>\n",
       "      <td>15</td>\n",
       "      <td>0</td>\n",
       "      <td>0</td>\n",
       "      <td>0</td>\n",
       "      <td>0</td>\n",
       "      <td>0</td>\n",
       "      <td>0</td>\n",
       "      <td>NaN</td>\n",
       "    </tr>\n",
       "    <tr>\n",
       "      <th>1</th>\n",
       "      <td>동탄역(동측)</td>\n",
       "      <td>55399</td>\n",
       "      <td>1000</td>\n",
       "      <td>장외리.오리골 - 장외리.오리골</td>\n",
       "      <td>2024-05</td>\n",
       "      <td>어린이</td>\n",
       "      <td>0</td>\n",
       "      <td>0</td>\n",
       "      <td>0</td>\n",
       "      <td>0</td>\n",
       "      <td>...</td>\n",
       "      <td>0</td>\n",
       "      <td>0</td>\n",
       "      <td>0</td>\n",
       "      <td>0</td>\n",
       "      <td>0</td>\n",
       "      <td>0</td>\n",
       "      <td>0</td>\n",
       "      <td>0</td>\n",
       "      <td>0</td>\n",
       "      <td>NaN</td>\n",
       "    </tr>\n",
       "  </tbody>\n",
       "</table>\n",
       "<p>2 rows × 55 columns</p>\n",
       "</div>"
      ],
      "text/plain": [
       "      정류장명  정류장번호    노선                기종점       일자 이용자유형  04(승차)  04(하차)  \\\n",
       "0  동탄역(동측)  55399  1000  장외리.오리골 - 장외리.오리골  2024-05   일반인       3       0   \n",
       "1  동탄역(동측)  55399  1000  장외리.오리골 - 장외리.오리골  2024-05   어린이       0       0   \n",
       "\n",
       "   05(승차)  05(하차)  ...  23(하차)  00(승차)  00(하차)  01(승차)  01(하차)  02(승차)  \\\n",
       "0       7       0  ...       7       0      15       0       0       0   \n",
       "1       0       0  ...       0       0       0       0       0       0   \n",
       "\n",
       "   02(하차)  03(승차)  03(하차)  Unnamed: 54  \n",
       "0       0       0       0          NaN  \n",
       "1       0       0       0          NaN  \n",
       "\n",
       "[2 rows x 55 columns]"
      ]
     },
     "execution_count": 18,
     "metadata": {},
     "output_type": "execute_result"
    }
   ],
   "source": [
    "df_east.head(2)"
   ]
  },
  {
   "cell_type": "code",
   "execution_count": 20,
   "metadata": {},
   "outputs": [],
   "source": [
    "#동탄역(동측+서측)에 정차하는 노선 목록 확인\n",
    "east = df_east['노선'].unique().tolist()\n",
    "west = df_west['노선'].unique().tolist()\n",
    "bus_lane = (east+west)"
   ]
  },
  {
   "cell_type": "code",
   "execution_count": 23,
   "metadata": {},
   "outputs": [
    {
     "data": {
      "text/plain": [
       "62"
      ]
     },
     "execution_count": 23,
     "metadata": {},
     "output_type": "execute_result"
    }
   ],
   "source": [
    "#노선수\n",
    "len(bus_lane)"
   ]
  },
  {
   "cell_type": "markdown",
   "metadata": {},
   "source": [
    "# 2. 세대 현황\n",
    "> 행정안전부"
   ]
  },
  {
   "cell_type": "code",
   "execution_count": 34,
   "metadata": {},
   "outputs": [
    {
     "name": "stderr",
     "output_type": "stream",
     "text": [
      "c:\\Python310\\lib\\site-packages\\openpyxl\\styles\\stylesheet.py:226: UserWarning: Workbook contains no default style, apply openpyxl's default\n",
      "  warn(\"Workbook contains no default style, apply openpyxl's default\")\n"
     ]
    },
    {
     "data": {
      "text/html": [
       "<div>\n",
       "<style scoped>\n",
       "    .dataframe tbody tr th:only-of-type {\n",
       "        vertical-align: middle;\n",
       "    }\n",
       "\n",
       "    .dataframe tbody tr th {\n",
       "        vertical-align: top;\n",
       "    }\n",
       "\n",
       "    .dataframe thead th {\n",
       "        text-align: right;\n",
       "    }\n",
       "</style>\n",
       "<table border=\"1\" class=\"dataframe\">\n",
       "  <thead>\n",
       "    <tr style=\"text-align: right;\">\n",
       "      <th>1</th>\n",
       "      <th>행정기관코드</th>\n",
       "      <th>행정기관</th>\n",
       "      <th>총 거주자수</th>\n",
       "      <th>세대수</th>\n",
       "      <th>세대당 인구</th>\n",
       "      <th>남자 인구수</th>\n",
       "      <th>여자 인구수</th>\n",
       "      <th>남여 비율</th>\n",
       "    </tr>\n",
       "  </thead>\n",
       "  <tbody>\n",
       "    <tr>\n",
       "      <th>0</th>\n",
       "      <td>4159000000</td>\n",
       "      <td>경기도 경기도 화성시</td>\n",
       "      <td>949,720</td>\n",
       "      <td>407,372</td>\n",
       "      <td>2.33</td>\n",
       "      <td>492,894</td>\n",
       "      <td>456,826</td>\n",
       "      <td>1.08</td>\n",
       "    </tr>\n",
       "    <tr>\n",
       "      <th>1</th>\n",
       "      <td>4159025300</td>\n",
       "      <td>경기도 화성시 봉담읍</td>\n",
       "      <td>98,700</td>\n",
       "      <td>41,334</td>\n",
       "      <td>2.39</td>\n",
       "      <td>49,906</td>\n",
       "      <td>48,794</td>\n",
       "      <td>1.02</td>\n",
       "    </tr>\n",
       "    <tr>\n",
       "      <th>2</th>\n",
       "      <td>4159025600</td>\n",
       "      <td>경기도 화성시 우정읍</td>\n",
       "      <td>17,275</td>\n",
       "      <td>9,307</td>\n",
       "      <td>1.86</td>\n",
       "      <td>9,508</td>\n",
       "      <td>7,767</td>\n",
       "      <td>1.22</td>\n",
       "    </tr>\n",
       "    <tr>\n",
       "      <th>3</th>\n",
       "      <td>4159025900</td>\n",
       "      <td>경기도 화성시 향남읍</td>\n",
       "      <td>85,845</td>\n",
       "      <td>40,355</td>\n",
       "      <td>2.13</td>\n",
       "      <td>46,143</td>\n",
       "      <td>39,702</td>\n",
       "      <td>1.16</td>\n",
       "    </tr>\n",
       "  </tbody>\n",
       "</table>\n",
       "</div>"
      ],
      "text/plain": [
       "1      행정기관코드          행정기관   총 거주자수      세대수          세대당 인구   남자 인구수  \\\n",
       "0  4159000000  경기도 경기도 화성시   949,720  407,372            2.33  492,894   \n",
       "1  4159025300   경기도 화성시 봉담읍   98,700   41,334            2.39   49,906   \n",
       "2  4159025600   경기도 화성시 우정읍   17,275    9,307            1.86    9,508   \n",
       "3  4159025900   경기도 화성시 향남읍   85,845   40,355            2.13   46,143   \n",
       "\n",
       "1   여자 인구수           남여 비율  \n",
       "0  456,826            1.08  \n",
       "1   48,794            1.02  \n",
       "2    7,767            1.22  \n",
       "3   39,702            1.16  "
      ]
     },
     "execution_count": 34,
     "metadata": {},
     "output_type": "execute_result"
    }
   ],
   "source": [
    "toll = pd.read_excel('C:/Users/OneYoung/Documents/GitHub/GTX-A-Bus-lane-optimization/GTX_동탄역_data/행정안전부/행안부_202405_202405_주민등록인구및세대현황_월간.xlsx')\n",
    "# 특정 행을 컬럼으로 설정하기\n",
    "toll.columns = toll.iloc[1]\n",
    "\n",
    "# 불필요한 행 제거 (첫 두 행 제거)\n",
    "toll = toll[2:]\n",
    "\n",
    "# 인덱스 리셋 (기존 인덱스는 드롭)\n",
    "toll = toll.reset_index(drop=True)\n",
    "\n",
    "toll.head(4)"
   ]
  },
  {
   "cell_type": "code",
   "execution_count": 35,
   "metadata": {},
   "outputs": [
    {
     "data": {
      "text/plain": [
       "array(['경기도 경기도 화성시 ', '경기도 화성시 봉담읍', '경기도 화성시 우정읍', '경기도 화성시 향남읍',\n",
       "       '경기도 화성시 남양읍', '경기도 화성시 매송면', '경기도 화성시 비봉면', '경기도 화성시 마도면',\n",
       "       '경기도 화성시 송산면', '경기도 화성시 서신면', '경기도 화성시 팔탄면', '경기도 화성시 장안면',\n",
       "       '경기도 화성시 양감면', '경기도 화성시 정남면', '경기도 화성시 새솔동', '경기도 화성시 진안동',\n",
       "       '경기도 화성시 병점1동', '경기도 화성시 병점2동', '경기도 화성시 반월동', '경기도 화성시 기배동',\n",
       "       '경기도 화성시 화산동', '경기도 화성시 동탄1동', '경기도 화성시 동탄2동', '경기도 화성시 동탄3동',\n",
       "       '경기도 화성시 동탄4동', '경기도 화성시 동탄5동', '경기도 화성시 동탄6동', '경기도 화성시 동탄7동',\n",
       "       '경기도 화성시 동탄8동', '경기도 화성시 동탄9동'], dtype=object)"
      ]
     },
     "execution_count": 35,
     "metadata": {},
     "output_type": "execute_result"
    }
   ],
   "source": [
    "toll['행정기관'].unique()"
   ]
  },
  {
   "cell_type": "markdown",
   "metadata": {},
   "source": [
    "# 3. 버스 정류장 주소"
   ]
  },
  {
   "cell_type": "code",
   "execution_count": null,
   "metadata": {},
   "outputs": [],
   "source": []
  }
 ],
 "metadata": {
  "kernelspec": {
   "display_name": "Python 3",
   "language": "python",
   "name": "python3"
  },
  "language_info": {
   "codemirror_mode": {
    "name": "ipython",
    "version": 3
   },
   "file_extension": ".py",
   "mimetype": "text/x-python",
   "name": "python",
   "nbconvert_exporter": "python",
   "pygments_lexer": "ipython3",
   "version": "3.10.3"
  }
 },
 "nbformat": 4,
 "nbformat_minor": 2
}
